{
  "nbformat": 4,
  "nbformat_minor": 0,
  "metadata": {
    "colab": {
      "name": "DownloadCSV.ipynb",
      "provenance": [],
      "authorship_tag": "ABX9TyPUpTdy83DqR9yckvCSkWwe",
      "include_colab_link": true
    },
    "kernelspec": {
      "name": "python3",
      "display_name": "Python 3"
    },
    "language_info": {
      "name": "python"
    }
  },
  "cells": [
    {
      "cell_type": "markdown",
      "metadata": {
        "id": "view-in-github",
        "colab_type": "text"
      },
      "source": [
        "<a href=\"https://colab.research.google.com/github/anoukzwinkels/TM10007/blob/master/DownloadCSV.ipynb\" target=\"_parent\"><img src=\"https://colab.research.google.com/assets/colab-badge.svg\" alt=\"Open In Colab\"/></a>"
      ]
    },
    {
      "cell_type": "markdown",
      "metadata": {
        "id": "DygyBviG4YyO"
      },
      "source": [
        "Create random dataframe"
      ]
    },
    {
      "cell_type": "code",
      "metadata": {
        "colab": {
          "base_uri": "https://localhost:8080/"
        },
        "id": "fhbcjWf31sC_",
        "outputId": "d6f0fede-a8b7-4611-877e-b1efda9b9eaf"
      },
      "source": [
        "import numpy as np\n",
        "import pandas as pd\n",
        "\n",
        "df = pd.DataFrame(np.random.randint(0,100,size=(100, 8)), columns=list('ABCDEFGH'))\n",
        "print(df)"
      ],
      "execution_count": 10,
      "outputs": [
        {
          "output_type": "stream",
          "text": [
            "     A   B   C   D   E   F   G   H\n",
            "0   38  31  56  24  70   1  70  99\n",
            "1   43  34  41  53  52  68  99  96\n",
            "2   18  90  12  83  80  33  16   1\n",
            "3   98  78  56  86  94  24  99  67\n",
            "4   50  22  21  85  20  25  76  64\n",
            "..  ..  ..  ..  ..  ..  ..  ..  ..\n",
            "95  55  46  77  36  29  15  60  68\n",
            "96  83  43  37  10  67  90   3  88\n",
            "97  58  94  90  71  35  66  65   4\n",
            "98  82   9  36  39  85  88  24  66\n",
            "99   7  99  61  80  43   4  49  23\n",
            "\n",
            "[100 rows x 8 columns]\n"
          ],
          "name": "stdout"
        }
      ]
    },
    {
      "cell_type": "markdown",
      "metadata": {
        "id": "00m10zQP4UZ4"
      },
      "source": [
        "Dataframe to csv"
      ]
    },
    {
      "cell_type": "code",
      "metadata": {
        "id": "9UaBZtBj4Qa3"
      },
      "source": [
        "# pd.DataFrame.to_csv(data=df,path_or_buf='C:\\Users\\anouk\\Documents\\School\\Technical Medicine\\TM10007 ML\\Testcsv\\new_df.csv')\n",
        "df.to_csv(r'C:\\Gebruikers\\Downloads\\file3.csv')"
      ],
      "execution_count": 26,
      "outputs": []
    },
    {
      "cell_type": "code",
      "metadata": {
        "colab": {
          "base_uri": "https://localhost:8080/"
        },
        "id": "PzCA2_bc4R_m",
        "outputId": "1d4773da-bd83-4972-80c4-5e34d54ac883"
      },
      "source": [
        "# evaluation to csv\n",
        "! explorer"
      ],
      "execution_count": 30,
      "outputs": [
        {
          "output_type": "stream",
          "text": [
            "/bin/bash: explorer.: command not found\n"
          ],
          "name": "stdout"
        }
      ]
    }
  ]
}